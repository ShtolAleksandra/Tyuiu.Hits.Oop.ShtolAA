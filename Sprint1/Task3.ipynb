{
 "cells": [
  {
   "cell_type": "markdown",
   "metadata": {},
   "source": [
    "<h1 style=\"color:DodgerBlue\">Индивидальный проект</h1>"
   ]
  },
  {
   "cell_type": "markdown",
   "metadata": {},
   "source": [
    "<h2 style=\"color:DodgerBlue\">Название проекта:</h2>\n",
    "\n",
    "----\n",
    "\n",
    "### Вариант задания №22\n"
   ]
  },
  {
   "cell_type": "markdown",
   "metadata": {},
   "source": [
    "<h2 style=\"color:DodgerBlue\">Описание проекта:</h2>\n",
    "\n",
    "----\n",
    "\n",
    "Создать базовый класс Project в C#, который будет представлять проекты в рамках организации. На основе этого класса разработать 2-3 производных класса,\n",
    "демонстрирующих принципы наследования и полиморфизма. В каждом из классов должны быть реализованы новые атрибуты и методы, а также переопределены некоторые методы базового класса для демонстрации полиморфизма.\n",
    "\n",
    "Требования к базовому классу Project:\n",
    "\n",
    "• Атрибуты: ID проекта (ProjectId), Название проекта (ProjectName), Статус\n",
    "проекта (Status).\n",
    "\n",
    "• Методы:\n",
    "\n",
    "o UpdateStatus(): метод для обновления статуса проекта.\n",
    "\n",
    "o GetProjectDetails(): метод для получения деталей проекта.\n",
    "\n",
    "o AssignTeamMember(): метод для назначения командного члена\n",
    "проекту.\n",
    "\n",
    "Требования к производным классам:\n",
    "\n",
    "1. ПродуктовыйПроект (ProductProject): Должен содержать дополнительные\n",
    "атрибуты, такие как Ожидаемая дата завершения (ExpectedCompletionDate).\n",
    "Метод UpdateStatus() должен быть переопределен для включения\n",
    "ожидаемой даты завершения в статус проекта.\n",
    "2. ИсследовательскийПроект (ResearchProject): Должен содержать\n",
    "дополнительные атрибуты, такие как Финансирование (FundingAmount).\n",
    "Метод AssignTeamMember() должен быть переопределен для указания\n",
    "специфических требований к навыкам командного члена для\n",
    "исследовательского проекта.\n",
    "3. ИнфраструктурныйПроект (InfrastructureProject) (если требуется третий\n",
    "класс): Должен содержать дополнительные атрибуты, такие как Срок\n",
    "выполнения (ExecutionPeriod). Метод GetProjectDetails() должен быть\n",
    "переопределен для отображения срока выполнения проекта вместе с\n",
    "другими деталями проекта.\n",
    "\n",
    "#### Дополнительное задание\n",
    "Добавьте к сущестующим классам конструктора классов с использованием гетторов и сетторов и реализуйте взаимодействие объектов между собой"
   ]
  },
  {
   "cell_type": "markdown",
   "metadata": {},
   "source": [
    "<h2 style=\"color:DodgerBlue\">Реализация:</h2>\n",
    "\n",
    "----"
   ]
  },
  {
   "cell_type": "code",
   "execution_count": 1,
   "metadata": {
    "dotnet_interactive": {
     "language": "csharp"
    },
    "polyglot_notebook": {
     "kernelName": "csharp"
    }
   },
   "outputs": [
    {
     "name": "stdout",
     "output_type": "stream",
     "text": [
      "Статус проекта 'Новый Умный Телефон' обновлен на: Завершен. Ожидаемая дата завершения: 12/11/2024\n",
      "ID: 1, Название: Новый Умный Телефон, Статус: Завершен, Ожидаемая дата завершения: 12/11/2024\n",
      "Член команды 'Александра' назначен на исследовательский проект 'Исследование AI'. Требуются навыки в области научных исследований.\n",
      "ID: 2, Название: Исследование AI, Статус: В процессе, Финансирование: ¤50,000.00\n",
      "ID: 3, Название: Строительство моста, Статус: Запланирован, Срок выполнения: 12 месяцев\n"
     ]
    }
   ],
   "source": [
    "public class Project\n",
    "{\n",
    "    public int ProjectId { get; set; }\n",
    "    public string ProjectName { get; set; }\n",
    "    public string Status { get; set; }\n",
    "\n",
    "    public Project(int projectId, string projectName, string status)\n",
    "    {\n",
    "        ProjectId = projectId;\n",
    "        ProjectName = projectName;\n",
    "        Status = status;\n",
    "    }\n",
    "\n",
    "    public virtual void UpdateStatus(string newStatus)\n",
    "    {\n",
    "        Status = newStatus;\n",
    "        Console.WriteLine($\"Статус проекта '{ProjectName}' обновлен на: {Status}\");\n",
    "    }\n",
    "\n",
    "    public virtual string GetProjectDetails()\n",
    "    {\n",
    "        return $\"ID: {ProjectId}, Название: {ProjectName}, Статус: {Status}\";\n",
    "    }\n",
    "\n",
    "    public virtual void AssignTeamMember(string memberName)\n",
    "    {\n",
    "        Console.WriteLine($\"Член команды '{memberName}' назначен на проект '{ProjectName}'.\");\n",
    "    }\n",
    "}\n",
    "\n",
    "public class ProductProject : Project\n",
    "{\n",
    "    public DateTime ExpectedCompletionDate { get; set; }\n",
    "\n",
    "    public ProductProject(int projectId, string projectName, string status, DateTime expectedCompletionDate)\n",
    "    : base(projectId, projectName, status)\n",
    "    {\n",
    "        ExpectedCompletionDate = expectedCompletionDate;\n",
    "    }\n",
    "\n",
    "    public override void UpdateStatus(string newStatus)\n",
    "    {\n",
    "        Status = newStatus;\n",
    "        Console.WriteLine($\"Статус проекта '{ProjectName}' обновлен на: {Status}. Ожидаемая дата завершения: {ExpectedCompletionDate.ToShortDateString()}\");\n",
    "    }\n",
    "\n",
    "    public override string GetProjectDetails()\n",
    "    {\n",
    "        return base.GetProjectDetails() + $\", Ожидаемая дата завершения: {ExpectedCompletionDate.ToShortDateString()}\";\n",
    "    }\n",
    "}\n",
    "   \n",
    "public class ResearchProject : Project\n",
    "{\n",
    "        public decimal FundingAmount { get; set; }\n",
    "\n",
    "        public ResearchProject(int projectId, string projectName, string status, decimal fundingAmount)\n",
    "        : base(projectId, projectName, status)\n",
    "    {\n",
    "        FundingAmount = fundingAmount;\n",
    "    }\n",
    "\n",
    "    public override void AssignTeamMember(string memberName)\n",
    "    {\n",
    "        Console.WriteLine($\"Член команды '{memberName}' назначен на исследовательский проект '{ProjectName}'. Требуются навыки в области научных исследований.\");\n",
    "    }\n",
    "\n",
    "    public override string GetProjectDetails()\n",
    "    {\n",
    "        return base.GetProjectDetails() + $\", Финансирование: {FundingAmount:C}\";\n",
    "    }\n",
    " }\n",
    "\n",
    " public class InfrastructureProject : Project\n",
    "{\n",
    "        public int ExecutionPeriod { get; set; } \n",
    "\n",
    "        public InfrastructureProject(int projectId, string projectName, string status, int executionPeriod)\n",
    "        : base(projectId, projectName, status)\n",
    "    {\n",
    "        ExecutionPeriod = executionPeriod;\n",
    "    }\n",
    "\n",
    "    public override string GetProjectDetails()\n",
    "    {\n",
    "        return base.GetProjectDetails() + $\", Срок выполнения: {ExecutionPeriod} месяцев\";\n",
    "    }\n",
    "}\n",
    "\n",
    "    \n",
    "    Project productProject = new ProductProject(1, \"Новый Умный Телефон\", \"В разработке\", new DateTime(2024, 12, 11));\n",
    "    productProject.UpdateStatus(\"Завершен\");\n",
    "    Console.WriteLine(productProject.GetProjectDetails());\n",
    "\n",
    "    Project researchProject = new ResearchProject(2, \"Исследование AI\", \"В процессе\", 50000);\n",
    "    researchProject.AssignTeamMember(\"Александра\");\n",
    "    Console.WriteLine(researchProject.GetProjectDetails());\n",
    "    Project infrastructureProject = new InfrastructureProject(3, \"Строительство моста\", \"Запланирован\", 12);\n",
    "    Console.WriteLine(infrastructureProject.GetProjectDetails());\n",
    "    \n",
    "\n"
   ]
  }
 ],
 "metadata": {
  "kernelspec": {
   "display_name": ".NET (C#)",
   "language": "C#",
   "name": ".net-csharp"
  },
  "polyglot_notebook": {
   "kernelInfo": {
    "defaultKernelName": "csharp",
    "items": [
     {
      "aliases": [],
      "languageName": "csharp",
      "name": "csharp"
     }
    ]
   }
  }
 },
 "nbformat": 4,
 "nbformat_minor": 2
}
