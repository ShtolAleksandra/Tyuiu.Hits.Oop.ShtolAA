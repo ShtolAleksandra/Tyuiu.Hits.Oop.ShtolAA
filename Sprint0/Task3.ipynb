{
 "cells": [
  {
   "cell_type": "markdown",
   "metadata": {},
   "source": [
    "<h1 style=\"color:DodgerBlue\">Индивидальный проект</h1>"
   ]
  },
  {
   "cell_type": "markdown",
   "metadata": {},
   "source": [
    "<h2 style=\"color:DodgerBlue\">Название проекта:</h2>\n",
    "\n",
    "----\n",
    "\n",
    "### Вариант задания №22\n"
   ]
  },
  {
   "cell_type": "markdown",
   "metadata": {},
   "source": [
    "<h2 style=\"color:DodgerBlue\">Описание проекта:</h2>\n",
    "\n",
    "----\n",
    "\n",
    "Создать базовый класс Project в C#, который будет представлять проекты в рамках организации. На основе этого класса разработать 2-3 производных класса,\n",
    "демонстрирующих принципы наследования и полиморфизма. В каждом из классов должны быть реализованы новые атрибуты и методы, а также переопределены некоторые методы базового класса для демонстрации полиморфизма.\n",
    "Требования к базовому классу Project:\n",
    "• Атрибуты: ID проекта (ProjectId), Название проекта (ProjectName), Статус\n",
    "проекта (Status).\n",
    "• Методы:\n",
    "o UpdateStatus(): метод для обновления статуса проекта.\n",
    "o GetProjectDetails(): метод для получения деталей проекта.\n",
    "o AssignTeamMember(): метод для назначения командного члена\n",
    "проекту.\n",
    "Требования к производным классам:\n",
    "1. ПродуктовыйПроект (ProductProject): Должен содержать дополнительные\n",
    "атрибуты, такие как Ожидаемая дата завершения (ExpectedCompletionDate).\n",
    "Метод UpdateStatus() должен быть переопределен для включения\n",
    "ожидаемой даты завершения в статус проекта.\n",
    "2. ИсследовательскийПроект (ResearchProject): Должен содержать\n",
    "дополнительные атрибуты, такие как Финансирование (FundingAmount).\n",
    "Метод AssignTeamMember() должен быть переопределен для указания\n",
    "специфических требований к навыкам командного члена для\n",
    "исследовательского проекта.\n",
    "3. ИнфраструктурныйПроект (InfrastructureProject) (если требуется третий\n",
    "класс): Должен содержать дополнительные атрибуты, такие как Срок\n",
    "выполнения (ExecutionPeriod). Метод GetProjectDetails() должен быть\n",
    "переопределен для отображения срока выполнения проекта вместе с\n",
    "другими деталями проекта.\n"
   ]
  },
  {
   "cell_type": "markdown",
   "metadata": {},
   "source": [
    "<h2 style=\"color:DodgerBlue\">Реализация:</h2>\n",
    "\n",
    "----"
   ]
  },
  {
   "cell_type": "code",
   "execution_count": 2,
   "metadata": {
    "dotnet_interactive": {
     "language": "csharp"
    },
    "polyglot_notebook": {
     "kernelName": "csharp"
    }
   },
   "outputs": [],
   "source": [
    "public class Event\n",
    "{\n",
    "    public int EventId { get; set; }\n",
    "    public string EventName { get; set; }\n",
    "    public DateTime Date { get; set; }\n",
    "    protected List<string> participants;\n",
    "\n",
    "    public Event(int eventId, string eventName, DateTime date)\n",
    "    {\n",
    "        EventId = eventId;\n",
    "        EventName = eventName;\n",
    "        Date = date;\n",
    "        participants = new List<string>();\n",
    "    }\n",
    "\n",
    "    public virtual void RegisterParticipant(string participant)\n",
    "    {\n",
    "    participants.Add(participant);\n",
    "    Console.WriteLine($\"Участник {participant} зарегистрирован на мероприятие {EventName}.\");\n",
    "    }\n",
    "\n",
    "    public virtual void NotifyParticipants()\n",
    "    {\n",
    "        Console.WriteLine($\"Уведомление участников мероприятия {EventName}:\");\n",
    "        foreach (var participant in participants)\n",
    "        {\n",
    "            Console.WriteLine($\"Участник: {participant}\");\n",
    "        }\n",
    "    }\n",
    "\n",
    "    public virtual string GetEventDetails()\n",
    "    {\n",
    "        return $\"ID: {EventId}, Название: {EventName}, Дата: {Date.ToShortDateString()}\";\n",
    "    }\n",
    "}\n",
    "\n",
    "public class Conference : Event\n",
    "{\n",
    "    public int SpeakersCount { get; set; }\n",
    "\n",
    "    public Conference(int eventId, string eventName, DateTime date, int speakersCount)\n",
    "        : base(eventId, eventName, date)\n",
    "    {\n",
    "         SpeakersCount = speakersCount;\n",
    "    }\n",
    "\n",
    "    public override void NotifyParticipants()\n",
    "    {\n",
    "        Console.WriteLine($\"Уведомление участников конференции {EventName}:\");\n",
    "        Console.WriteLine($\"Программа конференции с {SpeakersCount} спикерами.\");\n",
    "        base.NotifyParticipants();\n",
    "    }\n",
    "}\n",
    "\n",
    "public class Festival : Event\n",
    "{\n",
    "    public int BandsCount { get; set; }\n",
    "\n",
    "    public Festival(int eventId, string eventName, DateTime date, int bandsCount)\n",
    "        : base(eventId, eventName, date)\n",
    "    {\n",
    "         BandsCount = bandsCount;\n",
    "    }\n",
    "\n",
    "    public override void RegisterParticipant(string participant)\n",
    "    {\n",
    "        Console.WriteLine($\"Фестиваль {EventName}: выберите музыкальные жанры для {participant}.\");\n",
    "\n",
    "base.RegisterParticipant(participant);\n",
    "    }\n",
    "}\n",
    "\n",
    "public class Seminar : Event\n",
    "{\n",
    "    public List<string> Topics { get; set; }\n",
    "\n",
    "    public Seminar(int eventId, string eventName, DateTime date, List<string> topics)\n",
    "        : base(eventId, eventName, date)\n",
    "    {\n",
    "        Topics = topics;\n",
    "    }\n",
    "\n",
    "    public override string GetEventDetails()\n",
    "    {\n",
    "        var topicsStr = string.Join(\", \", Topics);\n",
    "        return base.GetEventDetails() + $\", Тематические области: {topicsStr}\";\n",
    "    }\n",
    "}\n",
    "\n",
    "class Program\n",
    "{\n",
    "      static void Main()\n",
    "    {\n",
    "    Event conference = new Conference(1, \"Научная конференция\", new DateTime(2023, 10, 22), 5);\n",
    "conference.RegisterParticipant(\"Иванов Иван\");\n",
    "    conference.NotifyParticipants();\n",
    "Console.WriteLine(conference.GetEventDetails());\n",
    "\n",
    "    Console.WriteLine();\n",
    "\n",
    "    Event festival = new Festival(2, \"Музыкальный фестиваль\", new DateTime(2023, 09, 15), 10);\n",
    "    festival.RegisterParticipant(\"Петров Петр\");\n",
    "    festival.NotifyParticipants();\n",
    "Console.WriteLine(festival.GetEventDetails());\n",
    "\n",
    "    Console.WriteLine();\n",
    "\n",
    "    Event seminar = new Seminar(3, \"Семинар по программированию\", new DateTime(2023, 11, 10), new List<string> { \"C#\", \"Java\", \"Python\" });\n",
    "seminar.RegisterParticipant(\"Сидоров Сидор\");\n",
    "    seminar.NotifyParticipants();\n",
    "Console.WriteLine(seminar.GetEventDetails());\n",
    "    }\n",
    "}\n"
   ]
  }
 ],
 "metadata": {
  "kernelspec": {
   "display_name": ".NET (C#)",
   "language": "C#",
   "name": ".net-csharp"
  },
  "polyglot_notebook": {
   "kernelInfo": {
    "defaultKernelName": "csharp",
    "items": [
     {
      "aliases": [],
      "languageName": "csharp",
      "name": "csharp"
     }
    ]
   }
  }
 },
 "nbformat": 4,
 "nbformat_minor": 2
}
